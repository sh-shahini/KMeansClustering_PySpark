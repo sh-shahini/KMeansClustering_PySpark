{
  "nbformat": 4,
  "nbformat_minor": 0,
  "metadata": {
    "anaconda-cloud": {},
    "kernelspec": {
      "name": "python3",
      "display_name": "Python 3"
    },
    "colab": {
      "name": "KMeasnsClustring_PySpark.ipynb",
      "provenance": [],
      "toc_visible": true
    },
    "accelerator": "GPU"
  },
  "cells": [
    {
      "cell_type": "markdown",
      "metadata": {
        "id": "CIHH_3Dy-dwa",
        "colab_type": "text"
      },
      "source": [
        "**KMeans Clustering project **\n",
        "\n",
        "Here is the scenario: A technology firm was hacked, and we are asked to help them with the data that the forensic engineers have grabbed in order to find out if there are attacked by 2 or 3 hackers.\n",
        "\n",
        "The hint which is given to us is that the attacks are distributed evenly between the hackers. This clue might be a crucial key to this mystery."
      ]
    },
    {
      "cell_type": "markdown",
      "metadata": {
        "id": "uqhjBnlyLLfp",
        "colab_type": "text"
      },
      "source": [
        "Set up PySpark in GoogleColab environment"
      ]
    },
    {
      "cell_type": "code",
      "metadata": {
        "id": "-tQyBuIFAdeo",
        "colab_type": "code",
        "colab": {}
      },
      "source": [
        "!wget -q https://archive.apache.org/dist/spark/spark-2.1.1/spark-2.1.1-bin-hadoop2.7.tgz"
      ],
      "execution_count": 0,
      "outputs": []
    },
    {
      "cell_type": "code",
      "metadata": {
        "id": "goFfx84PAzWj",
        "colab_type": "code",
        "colab": {}
      },
      "source": [
        "!tar -zxf spark-2.1.1-bin-hadoop2.7.tgz"
      ],
      "execution_count": 0,
      "outputs": []
    },
    {
      "cell_type": "code",
      "metadata": {
        "id": "bgl3Kts9D_gT",
        "colab_type": "code",
        "colab": {}
      },
      "source": [
        "!apt-get install openjdk-8-jdk-headless -qq > /dev/null"
      ],
      "execution_count": 0,
      "outputs": []
    },
    {
      "cell_type": "code",
      "metadata": {
        "id": "VufIInHqabvQ",
        "colab_type": "code",
        "colab": {}
      },
      "source": [
        "!pip install -q findspark"
      ],
      "execution_count": 0,
      "outputs": []
    },
    {
      "cell_type": "code",
      "metadata": {
        "id": "KirtzjTMoxn1",
        "colab_type": "code",
        "colab": {}
      },
      "source": [
        "import os\n",
        "os.environ[\"JAVA_HOME\"] = \"/usr/lib/jvm/java-8-openjdk-amd64\"\n",
        "os.environ[\"SPARK_HOME\"] = \"/content/spark-2.1.1-bin-hadoop2.7\""
      ],
      "execution_count": 0,
      "outputs": []
    },
    {
      "cell_type": "code",
      "metadata": {
        "id": "ZYg14hJZBRdM",
        "colab_type": "code",
        "colab": {}
      },
      "source": [
        "import findspark\n",
        "findspark.init()"
      ],
      "execution_count": 0,
      "outputs": []
    },
    {
      "cell_type": "code",
      "metadata": {
        "id": "BrSYK_2T-dwe",
        "colab_type": "code",
        "colab": {}
      },
      "source": [
        "from pyspark.sql import SparkSession\n",
        "spark = SparkSession.builder.appName('hack_find').getOrCreate()"
      ],
      "execution_count": 0,
      "outputs": []
    },
    {
      "cell_type": "code",
      "metadata": {
        "id": "rwY7huXI-dwk",
        "colab_type": "code",
        "colab": {}
      },
      "source": [
        "from pyspark.ml.clustering import KMeans"
      ],
      "execution_count": 0,
      "outputs": []
    },
    {
      "cell_type": "markdown",
      "metadata": {
        "id": "EZkxwOn-Bw23",
        "colab_type": "text"
      },
      "source": [
        "**Load the data**"
      ]
    },
    {
      "cell_type": "code",
      "metadata": {
        "id": "sRW9UQsMBtXF",
        "colab_type": "code",
        "colab": {}
      },
      "source": [
        "dataset = spark.read.csv(\"hack_data.csv\",header=True,inferSchema=True)"
      ],
      "execution_count": 0,
      "outputs": []
    },
    {
      "cell_type": "code",
      "metadata": {
        "id": "VogIPaAQ-dwo",
        "colab_type": "code",
        "colab": {
          "base_uri": "https://localhost:8080/",
          "height": 54
        },
        "outputId": "1163ffd9-cd16-47d4-fe6b-936061c3f088"
      },
      "source": [
        "dataset.head()"
      ],
      "execution_count": 12,
      "outputs": [
        {
          "output_type": "execute_result",
          "data": {
            "text/plain": [
              "Row(Session_Connection_Time=8.0, Bytes Transferred=391.09, Kali_Trace_Used=1, Servers_Corrupted=2.96, Pages_Corrupted=7.0, Location='Slovenia', WPM_Typing_Speed=72.37)"
            ]
          },
          "metadata": {
            "tags": []
          },
          "execution_count": 12
        }
      ]
    },
    {
      "cell_type": "code",
      "metadata": {
        "id": "KdxVQ6F4-dwu",
        "colab_type": "code",
        "colab": {
          "base_uri": "https://localhost:8080/",
          "height": 207
        },
        "outputId": "b0fe711a-fe4c-4fd8-b7e6-90dac0b3aed0"
      },
      "source": [
        "dataset.describe().show()"
      ],
      "execution_count": 13,
      "outputs": [
        {
          "output_type": "stream",
          "text": [
            "+-------+-----------------------+------------------+------------------+-----------------+------------------+-----------+------------------+\n",
            "|summary|Session_Connection_Time| Bytes Transferred|   Kali_Trace_Used|Servers_Corrupted|   Pages_Corrupted|   Location|  WPM_Typing_Speed|\n",
            "+-------+-----------------------+------------------+------------------+-----------------+------------------+-----------+------------------+\n",
            "|  count|                    334|               334|               334|              334|               334|        334|               334|\n",
            "|   mean|     30.008982035928145| 607.2452694610777|0.5119760479041916|5.258502994011977|10.838323353293413|       null|57.342395209580864|\n",
            "| stddev|     14.088200614636158|286.33593163576757|0.5006065264451406| 2.30190693339697|  3.06352633036022|       null| 13.41106336843464|\n",
            "|    min|                    1.0|              10.0|                 0|              1.0|               6.0|Afghanistan|              40.0|\n",
            "|    max|                   60.0|            1330.5|                 1|             10.0|              15.0|   Zimbabwe|              75.0|\n",
            "+-------+-----------------------+------------------+------------------+-----------------+------------------+-----------+------------------+\n",
            "\n"
          ],
          "name": "stdout"
        }
      ]
    },
    {
      "cell_type": "code",
      "metadata": {
        "id": "ZgDCX0p_-dwy",
        "colab_type": "code",
        "colab": {
          "base_uri": "https://localhost:8080/",
          "height": 136
        },
        "outputId": "03693664-83a5-479c-a6f2-4cc50c96bc17"
      },
      "source": [
        "dataset.columns"
      ],
      "execution_count": 15,
      "outputs": [
        {
          "output_type": "execute_result",
          "data": {
            "text/plain": [
              "['Session_Connection_Time',\n",
              " 'Bytes Transferred',\n",
              " 'Kali_Trace_Used',\n",
              " 'Servers_Corrupted',\n",
              " 'Pages_Corrupted',\n",
              " 'Location',\n",
              " 'WPM_Typing_Speed']"
            ]
          },
          "metadata": {
            "tags": []
          },
          "execution_count": 15
        }
      ]
    },
    {
      "cell_type": "markdown",
      "metadata": {
        "id": "upbvI51TCJtg",
        "colab_type": "text"
      },
      "source": [
        "**Feature Transformation**"
      ]
    },
    {
      "cell_type": "code",
      "metadata": {
        "id": "ouaeYVe6-dw4",
        "colab_type": "code",
        "colab": {}
      },
      "source": [
        "from pyspark.ml.linalg import Vectors\n",
        "from pyspark.ml.feature import VectorAssembler"
      ],
      "execution_count": 0,
      "outputs": []
    },
    {
      "cell_type": "code",
      "metadata": {
        "id": "YcEnPR_f-dw8",
        "colab_type": "code",
        "colab": {}
      },
      "source": [
        "feat_cols = ['Session_Connection_Time', 'Bytes Transferred', 'Kali_Trace_Used',\n",
        "             'Servers_Corrupted', 'Pages_Corrupted','WPM_Typing_Speed']"
      ],
      "execution_count": 0,
      "outputs": []
    },
    {
      "cell_type": "code",
      "metadata": {
        "id": "HF6ME8Fq-dxA",
        "colab_type": "code",
        "colab": {}
      },
      "source": [
        "vec_assembler = VectorAssembler(inputCols = feat_cols, outputCol='features')"
      ],
      "execution_count": 0,
      "outputs": []
    },
    {
      "cell_type": "code",
      "metadata": {
        "id": "riOD17j2-dxE",
        "colab_type": "code",
        "colab": {}
      },
      "source": [
        "final_data = vec_assembler.transform(dataset)"
      ],
      "execution_count": 0,
      "outputs": []
    },
    {
      "cell_type": "markdown",
      "metadata": {
        "id": "m6k44aMVCUKZ",
        "colab_type": "text"
      },
      "source": [
        "**Feature normalization**"
      ]
    },
    {
      "cell_type": "code",
      "metadata": {
        "id": "a4TtcqBk-dxI",
        "colab_type": "code",
        "colab": {}
      },
      "source": [
        "from pyspark.ml.feature import StandardScaler"
      ],
      "execution_count": 0,
      "outputs": []
    },
    {
      "cell_type": "code",
      "metadata": {
        "id": "O6jR677V-dxM",
        "colab_type": "code",
        "colab": {}
      },
      "source": [
        "scaler = StandardScaler(inputCol=\"features\", outputCol=\"scaledFeatures\", withStd=True, withMean=False)"
      ],
      "execution_count": 0,
      "outputs": []
    },
    {
      "cell_type": "code",
      "metadata": {
        "id": "xlsSsI8j-dxQ",
        "colab_type": "code",
        "colab": {}
      },
      "source": [
        "scalerModel = scaler.fit(final_data)"
      ],
      "execution_count": 0,
      "outputs": []
    },
    {
      "cell_type": "code",
      "metadata": {
        "id": "bLZ3_Ktw-dxU",
        "colab_type": "code",
        "colab": {}
      },
      "source": [
        "cluster_final_data = scalerModel.transform(final_data)"
      ],
      "execution_count": 0,
      "outputs": []
    },
    {
      "cell_type": "markdown",
      "metadata": {
        "id": "yCRn99Bm-dxY",
        "colab_type": "text"
      },
      "source": [
        "Question answering: 2 or 3 hackers?"
      ]
    },
    {
      "cell_type": "code",
      "metadata": {
        "id": "8Rm1aPdv-dxa",
        "colab_type": "code",
        "colab": {}
      },
      "source": [
        "kmeans3 = KMeans(featuresCol='scaledFeatures',k=3)\n",
        "kmeans2 = KMeans(featuresCol='scaledFeatures',k=2)"
      ],
      "execution_count": 0,
      "outputs": []
    },
    {
      "cell_type": "code",
      "metadata": {
        "id": "0CsQ6qMi-dxe",
        "colab_type": "code",
        "colab": {}
      },
      "source": [
        "model_k3 = kmeans3.fit(cluster_final_data)\n",
        "model_k2 = kmeans2.fit(cluster_final_data)"
      ],
      "execution_count": 0,
      "outputs": []
    },
    {
      "cell_type": "code",
      "metadata": {
        "id": "19MeLhlg-dxj",
        "colab_type": "code",
        "colab": {}
      },
      "source": [
        "wssse_k3 = model_k3.computeCost(cluster_final_data)\n",
        "wssse_k2 = model_k2.computeCost(cluster_final_data)"
      ],
      "execution_count": 0,
      "outputs": []
    },
    {
      "cell_type": "code",
      "metadata": {
        "id": "rB1g5umC-dxo",
        "colab_type": "code",
        "colab": {
          "base_uri": "https://localhost:8080/",
          "height": 102
        },
        "outputId": "0108ca2c-1fc8-4ee3-9319-faa09d62c08b"
      },
      "source": [
        "print(\"With K=3\")\n",
        "print(\"Within Set Sum of Squared Errors = \" + str(wssse_k3))\n",
        "print('--'*30)\n",
        "print(\"With K=2\")\n",
        "print(\"Within Set Sum of Squared Errors = \" + str(wssse_k2))"
      ],
      "execution_count": 29,
      "outputs": [
        {
          "output_type": "stream",
          "text": [
            "With K=3\n",
            "Within Set Sum of Squared Errors = 434.75507308487647\n",
            "------------------------------------------------------------\n",
            "With K=2\n",
            "Within Set Sum of Squared Errors = 601.7707512676716\n"
          ],
          "name": "stdout"
        }
      ]
    },
    {
      "cell_type": "markdown",
      "metadata": {
        "id": "Hnm4VXGl-dxt",
        "colab_type": "text"
      },
      "source": [
        "Not much to be gained from the WSSSE, after all, we would expect that as K increases, the WSSSE decreases. We could however continue the analysis by seeing the drop from K=3 to K=4 to check if the clustering favors even or odd numbers. This won't be substantial, but its worth a look:"
      ]
    },
    {
      "cell_type": "code",
      "metadata": {
        "id": "V3dJTpLE-dxv",
        "colab_type": "code",
        "colab": {
          "base_uri": "https://localhost:8080/",
          "height": 374
        },
        "outputId": "aab3cad6-71dd-44a0-ef93-2eea7d21cb94"
      },
      "source": [
        "for k in range(2,9):\n",
        "    kmeans = KMeans(featuresCol='scaledFeatures',k=k)\n",
        "    model = kmeans.fit(cluster_final_data)\n",
        "    wssse = model.computeCost(cluster_final_data)\n",
        "    print(\"With K={}\".format(k))\n",
        "    print(\"Within Set Sum of Squared Errors = \" + str(wssse))\n",
        "    print('--'*30)"
      ],
      "execution_count": 30,
      "outputs": [
        {
          "output_type": "stream",
          "text": [
            "With K=2\n",
            "Within Set Sum of Squared Errors = 601.7707512676716\n",
            "------------------------------------------------------------\n",
            "With K=3\n",
            "Within Set Sum of Squared Errors = 434.75507308487647\n",
            "------------------------------------------------------------\n",
            "With K=4\n",
            "Within Set Sum of Squared Errors = 419.2753165228254\n",
            "------------------------------------------------------------\n",
            "With K=5\n",
            "Within Set Sum of Squared Errors = 398.07796475234807\n",
            "------------------------------------------------------------\n",
            "With K=6\n",
            "Within Set Sum of Squared Errors = 228.37504907726444\n",
            "------------------------------------------------------------\n",
            "With K=7\n",
            "Within Set Sum of Squared Errors = 214.52113001230254\n",
            "------------------------------------------------------------\n",
            "With K=8\n",
            "Within Set Sum of Squared Errors = 201.09551851852257\n",
            "------------------------------------------------------------\n"
          ],
          "name": "stdout"
        }
      ]
    },
    {
      "cell_type": "markdown",
      "metadata": {
        "id": "Pf-iOLZ3-dx0",
        "colab_type": "text"
      },
      "source": [
        "Nothing definitive can be concluded with the above, but not forget about the fact that the engineer mentioned \"the attacks should be evenly numbered between the hackers!\" Let's check with the transform and prediction columns that result form this!"
      ]
    },
    {
      "cell_type": "code",
      "metadata": {
        "id": "B4721Cdk-dx1",
        "colab_type": "code",
        "colab": {
          "base_uri": "https://localhost:8080/",
          "height": 153
        },
        "outputId": "f17125f4-8df4-49f6-e299-b0206504a852"
      },
      "source": [
        "model_k3.transform(cluster_final_data).groupBy('prediction').count().show()"
      ],
      "execution_count": 31,
      "outputs": [
        {
          "output_type": "stream",
          "text": [
            "+----------+-----+\n",
            "|prediction|count|\n",
            "+----------+-----+\n",
            "|         1|   88|\n",
            "|         2|   79|\n",
            "|         0|  167|\n",
            "+----------+-----+\n",
            "\n"
          ],
          "name": "stdout"
        }
      ]
    },
    {
      "cell_type": "code",
      "metadata": {
        "id": "dwM7XKn--dx-",
        "colab_type": "code",
        "colab": {
          "base_uri": "https://localhost:8080/",
          "height": 136
        },
        "outputId": "d3468039-95de-48fe-aa49-c4045849ea46"
      },
      "source": [
        "model_k2.transform(cluster_final_data).groupBy('prediction').count().show()"
      ],
      "execution_count": 32,
      "outputs": [
        {
          "output_type": "stream",
          "text": [
            "+----------+-----+\n",
            "|prediction|count|\n",
            "+----------+-----+\n",
            "|         1|  167|\n",
            "|         0|  167|\n",
            "+----------+-----+\n",
            "\n"
          ],
          "name": "stdout"
        }
      ]
    },
    {
      "cell_type": "markdown",
      "metadata": {
        "id": "2YMeB04M-dyF",
        "colab_type": "text"
      },
      "source": [
        "________"
      ]
    },
    {
      "cell_type": "markdown",
      "metadata": {
        "id": "MmEw1Jd1-dyH",
        "colab_type": "text"
      },
      "source": [
        "**From this we can come to this conclusion that there are definitely 2 hackers than 3 of them. Problem solved**\n",
        "\n"
      ]
    }
  ]
}