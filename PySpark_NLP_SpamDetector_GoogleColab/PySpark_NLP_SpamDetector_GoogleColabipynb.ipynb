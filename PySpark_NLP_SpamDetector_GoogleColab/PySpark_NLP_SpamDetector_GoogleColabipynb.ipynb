{
 "cells": [
  {
   "cell_type": "markdown",
   "metadata": {
    "colab_type": "text",
    "id": "jPdCJmhYjhyr"
   },
   "source": [
    "Download the independency packages"
   ]
  },
  {
   "cell_type": "code",
   "execution_count": 0,
   "metadata": {
    "colab": {},
    "colab_type": "code",
    "id": "-tQyBuIFAdeo"
   },
   "outputs": [],
   "source": [
    "!wget -q https://archive.apache.org/dist/spark/spark-2.1.1/spark-2.1.1-bin-hadoop2.7.tgz"
   ]
  },
  {
   "cell_type": "code",
   "execution_count": 0,
   "metadata": {
    "colab": {},
    "colab_type": "code",
    "id": "goFfx84PAzWj"
   },
   "outputs": [],
   "source": [
    "!tar -zxf spark-2.1.1-bin-hadoop2.7.tgz"
   ]
  },
  {
   "cell_type": "code",
   "execution_count": 0,
   "metadata": {
    "colab": {},
    "colab_type": "code",
    "id": "bgl3Kts9D_gT"
   },
   "outputs": [],
   "source": [
    "!apt-get install openjdk-8-jdk-headless -qq > /dev/null"
   ]
  },
  {
   "cell_type": "code",
   "execution_count": 0,
   "metadata": {
    "colab": {},
    "colab_type": "code",
    "id": "VufIInHqabvQ"
   },
   "outputs": [],
   "source": [
    "!pip install -q findspark"
   ]
  },
  {
   "cell_type": "markdown",
   "metadata": {
    "colab_type": "text",
    "id": "LXiC7jxDjrUM"
   },
   "source": [
    "Set up the environmental variables"
   ]
  },
  {
   "cell_type": "code",
   "execution_count": 0,
   "metadata": {
    "colab": {},
    "colab_type": "code",
    "id": "KirtzjTMoxn1"
   },
   "outputs": [],
   "source": [
    "import os\n",
    "os.environ[\"JAVA_HOME\"] = \"/usr/lib/jvm/java-8-openjdk-amd64\"\n",
    "os.environ[\"SPARK_HOME\"] = \"/content/spark-2.1.1-bin-hadoop2.7\""
   ]
  },
  {
   "cell_type": "markdown",
   "metadata": {
    "colab_type": "text",
    "id": "CpEO4lkAjyrz"
   },
   "source": [
    "Initialize Spark"
   ]
  },
  {
   "cell_type": "code",
   "execution_count": 0,
   "metadata": {
    "colab": {},
    "colab_type": "code",
    "id": "LhDqwYJ7a6PZ"
   },
   "outputs": [],
   "source": [
    "import findspark\n",
    "findspark.init()"
   ]
  },
  {
   "cell_type": "markdown",
   "metadata": {
    "colab_type": "text",
    "id": "Wny_w9edkHdA"
   },
   "source": [
    "Create a spark session and reading the text file"
   ]
  },
  {
   "cell_type": "code",
   "execution_count": 0,
   "metadata": {
    "colab": {},
    "colab_type": "code",
    "id": "ZxXOc_Oma_L_"
   },
   "outputs": [],
   "source": [
    "from pyspark.sql import SparkSession\n",
    "spark = SparkSession.builder.appName('nlp').getOrCreate()"
   ]
  },
  {
   "cell_type": "code",
   "execution_count": 0,
   "metadata": {
    "colab": {},
    "colab_type": "code",
    "id": "9bwn7tCybHCc"
   },
   "outputs": [],
   "source": [
    "data=spark.read.csv('SMSSpamCollection', inferSchema=True, sep='\\t')"
   ]
  },
  {
   "cell_type": "code",
   "execution_count": 0,
   "metadata": {
    "colab": {},
    "colab_type": "code",
    "id": "0Cr10iuEj-sh"
   },
   "outputs": [],
   "source": [
    "data = data.withColumnRenamed('_c0','class').withColumnRenamed('_c1','text')"
   ]
  },
  {
   "cell_type": "code",
   "execution_count": 0,
   "metadata": {
    "colab": {},
    "colab_type": "code",
    "id": "dlpqTqI-ht0P"
   },
   "outputs": [],
   "source": [
    "from pyspark.sql.functions import length"
   ]
  },
  {
   "cell_type": "code",
   "execution_count": 0,
   "metadata": {
    "colab": {},
    "colab_type": "code",
    "id": "IfOJFSmoiBvW"
   },
   "outputs": [],
   "source": [
    "data=data.withColumn('length', length(data['text']))"
   ]
  },
  {
   "cell_type": "code",
   "execution_count": 13,
   "metadata": {
    "colab": {
     "base_uri": "https://localhost:8080/",
     "height": 459
    },
    "colab_type": "code",
    "id": "oJvRNGLMiN6Z",
    "outputId": "fa853b8a-6299-461f-d614-3bf1bdeea5f9"
   },
   "outputs": [
    {
     "name": "stdout",
     "output_type": "stream",
     "text": [
      "+-----+--------------------+------+\n",
      "|class|                text|length|\n",
      "+-----+--------------------+------+\n",
      "|  ham|Go until jurong p...|   111|\n",
      "|  ham|Ok lar... Joking ...|    29|\n",
      "| spam|Free entry in 2 a...|   155|\n",
      "|  ham|U dun say so earl...|    49|\n",
      "|  ham|Nah I don't think...|    61|\n",
      "| spam|FreeMsg Hey there...|   147|\n",
      "|  ham|Even my brother i...|    77|\n",
      "|  ham|As per your reque...|   160|\n",
      "| spam|WINNER!! As a val...|   157|\n",
      "| spam|Had your mobile 1...|   154|\n",
      "|  ham|I'm gonna be home...|   109|\n",
      "| spam|SIX chances to wi...|   136|\n",
      "| spam|URGENT! You have ...|   155|\n",
      "|  ham|I've been searchi...|   196|\n",
      "|  ham|I HAVE A DATE ON ...|    35|\n",
      "| spam|XXXMobileMovieClu...|   149|\n",
      "|  ham|Oh k...i'm watchi...|    26|\n",
      "|  ham|Eh u remember how...|    81|\n",
      "|  ham|Fine if thats th...|    56|\n",
      "| spam|England v Macedon...|   155|\n",
      "+-----+--------------------+------+\n",
      "only showing top 20 rows\n",
      "\n"
     ]
    }
   ],
   "source": [
    "data.show()"
   ]
  },
  {
   "cell_type": "code",
   "execution_count": 15,
   "metadata": {
    "colab": {
     "base_uri": "https://localhost:8080/",
     "height": 136
    },
    "colab_type": "code",
    "id": "UTwaSnTIiWye",
    "outputId": "cbf06ea5-a9b7-4ac4-d1a0-d390908c9975"
   },
   "outputs": [
    {
     "name": "stdout",
     "output_type": "stream",
     "text": [
      "+-----+-----------------+\n",
      "|class|      avg(length)|\n",
      "+-----+-----------------+\n",
      "|  ham|71.45431945307645|\n",
      "| spam|138.6706827309237|\n",
      "+-----+-----------------+\n",
      "\n"
     ]
    }
   ],
   "source": [
    "data.groupby('class').mean().show()"
   ]
  },
  {
   "cell_type": "markdown",
   "metadata": {
    "colab_type": "text",
    "id": "BwJHULpwl8nK"
   },
   "source": [
    "Feature Transformations"
   ]
  },
  {
   "cell_type": "code",
   "execution_count": 0,
   "metadata": {
    "colab": {},
    "colab_type": "code",
    "id": "YroLJfR9i4F_"
   },
   "outputs": [],
   "source": [
    "from pyspark.ml.feature import Tokenizer,StopWordsRemover, CountVectorizer,IDF,StringIndexer"
   ]
  },
  {
   "cell_type": "code",
   "execution_count": 0,
   "metadata": {
    "colab": {},
    "colab_type": "code",
    "id": "zJLiUGkWmHvw"
   },
   "outputs": [],
   "source": [
    "tokenizer = Tokenizer(inputCol=\"text\", outputCol=\"token_text\")"
   ]
  },
  {
   "cell_type": "code",
   "execution_count": 0,
   "metadata": {
    "colab": {},
    "colab_type": "code",
    "id": "wvJd-Ax5lv8o"
   },
   "outputs": [],
   "source": [
    "stopremove = StopWordsRemover(inputCol='token_text',outputCol='stop_tokens')"
   ]
  },
  {
   "cell_type": "code",
   "execution_count": 0,
   "metadata": {
    "colab": {},
    "colab_type": "code",
    "id": "x6uZMbyVnUx_"
   },
   "outputs": [],
   "source": [
    "count_vec = CountVectorizer(inputCol='stop_tokens',outputCol='c_vec')"
   ]
  },
  {
   "cell_type": "code",
   "execution_count": 0,
   "metadata": {
    "colab": {},
    "colab_type": "code",
    "id": "OCHuS-6LnXqD"
   },
   "outputs": [],
   "source": [
    "idf = IDF(inputCol=\"c_vec\", outputCol=\"tf_idf\")"
   ]
  },
  {
   "cell_type": "code",
   "execution_count": 0,
   "metadata": {
    "colab": {},
    "colab_type": "code",
    "id": "cldkUtddncqD"
   },
   "outputs": [],
   "source": [
    "ham_spam_to_num = StringIndexer(inputCol='class',outputCol='label')"
   ]
  },
  {
   "cell_type": "markdown",
   "metadata": {
    "colab_type": "text",
    "id": "QJeKXCuFosLb"
   },
   "source": [
    "form the feature vector for ML"
   ]
  },
  {
   "cell_type": "code",
   "execution_count": 0,
   "metadata": {
    "colab": {},
    "colab_type": "code",
    "id": "XOmo768znhYB"
   },
   "outputs": [],
   "source": [
    "from pyspark.ml.feature import VectorAssembler\n",
    "from pyspark.ml.linalg import Vector"
   ]
  },
  {
   "cell_type": "code",
   "execution_count": 0,
   "metadata": {
    "colab": {},
    "colab_type": "code",
    "id": "ZBxShwU2ordq"
   },
   "outputs": [],
   "source": [
    "clean_up = VectorAssembler(inputCols=['tf_idf','length'],outputCol='features')"
   ]
  },
  {
   "cell_type": "markdown",
   "metadata": {
    "colab_type": "text",
    "id": "_4wAtpJJpEuI"
   },
   "source": [
    "Model"
   ]
  },
  {
   "cell_type": "code",
   "execution_count": 0,
   "metadata": {
    "colab": {},
    "colab_type": "code",
    "id": "TPO6rABHo8VG"
   },
   "outputs": [],
   "source": [
    "from pyspark.ml.classification import NaiveBayes"
   ]
  },
  {
   "cell_type": "code",
   "execution_count": 0,
   "metadata": {
    "colab": {},
    "colab_type": "code",
    "id": "rrMm21lppVf2"
   },
   "outputs": [],
   "source": [
    "nb=NaiveBayes()"
   ]
  },
  {
   "cell_type": "markdown",
   "metadata": {
    "colab_type": "text",
    "id": "cyPLRJwwptxf"
   },
   "source": [
    "Pipeline"
   ]
  },
  {
   "cell_type": "code",
   "execution_count": 0,
   "metadata": {
    "colab": {},
    "colab_type": "code",
    "id": "KRdMlfoYppvk"
   },
   "outputs": [],
   "source": [
    "from pyspark.ml import Pipeline"
   ]
  },
  {
   "cell_type": "code",
   "execution_count": 0,
   "metadata": {
    "colab": {},
    "colab_type": "code",
    "id": "o9K0MfNTpzNN"
   },
   "outputs": [],
   "source": [
    "data_prep_pipe = Pipeline(stages=[ham_spam_to_num,tokenizer,stopremove,count_vec,idf,clean_up])"
   ]
  },
  {
   "cell_type": "code",
   "execution_count": 0,
   "metadata": {
    "colab": {},
    "colab_type": "code",
    "id": "Qn1_wydwp7rf"
   },
   "outputs": [],
   "source": [
    "cleaner = data_prep_pipe.fit(data)"
   ]
  },
  {
   "cell_type": "code",
   "execution_count": 0,
   "metadata": {
    "colab": {},
    "colab_type": "code",
    "id": "azB01tUGqDiz"
   },
   "outputs": [],
   "source": [
    "clean_data=cleaner.transform(data)"
   ]
  },
  {
   "cell_type": "markdown",
   "metadata": {
    "colab_type": "text",
    "id": "jt8Un0IIqibu"
   },
   "source": [
    "Train and evaluate the data"
   ]
  },
  {
   "cell_type": "code",
   "execution_count": 0,
   "metadata": {
    "colab": {},
    "colab_type": "code",
    "id": "5kky1E--qcg1"
   },
   "outputs": [],
   "source": [
    "clean_data=clean_data.select(['label','features'])"
   ]
  },
  {
   "cell_type": "code",
   "execution_count": 31,
   "metadata": {
    "colab": {
     "base_uri": "https://localhost:8080/",
     "height": 459
    },
    "colab_type": "code",
    "id": "lQQLTwzGrGJr",
    "outputId": "ff192cbd-0b1a-45bb-9799-d87c77065223"
   },
   "outputs": [
    {
     "name": "stdout",
     "output_type": "stream",
     "text": [
      "+-----+--------------------+\n",
      "|label|            features|\n",
      "+-----+--------------------+\n",
      "|  0.0|(13459,[8,12,33,6...|\n",
      "|  0.0|(13459,[0,26,308,...|\n",
      "|  1.0|(13459,[2,14,20,3...|\n",
      "|  0.0|(13459,[0,73,84,1...|\n",
      "|  0.0|(13459,[36,39,140...|\n",
      "|  1.0|(13459,[11,57,62,...|\n",
      "|  0.0|(13459,[11,55,108...|\n",
      "|  0.0|(13459,[133,195,4...|\n",
      "|  1.0|(13459,[1,50,124,...|\n",
      "|  1.0|(13459,[0,1,14,29...|\n",
      "|  0.0|(13459,[5,19,36,4...|\n",
      "|  1.0|(13459,[9,18,40,9...|\n",
      "|  1.0|(13459,[14,32,50,...|\n",
      "|  0.0|(13459,[42,99,101...|\n",
      "|  0.0|(13459,[567,1745,...|\n",
      "|  1.0|(13459,[32,113,11...|\n",
      "|  0.0|(13459,[86,224,47...|\n",
      "|  0.0|(13459,[0,2,52,13...|\n",
      "|  0.0|(13459,[0,77,107,...|\n",
      "|  1.0|(13459,[4,32,35,6...|\n",
      "+-----+--------------------+\n",
      "only showing top 20 rows\n",
      "\n"
     ]
    }
   ],
   "source": [
    "clean_data.show()"
   ]
  },
  {
   "cell_type": "code",
   "execution_count": 0,
   "metadata": {
    "colab": {},
    "colab_type": "code",
    "id": "kGaC71M5rLhR"
   },
   "outputs": [],
   "source": [
    "(training,testing) = clean_data.randomSplit([0.7,0.3])"
   ]
  },
  {
   "cell_type": "code",
   "execution_count": 0,
   "metadata": {
    "colab": {},
    "colab_type": "code",
    "id": "myf3FwMJWv03"
   },
   "outputs": [],
   "source": [
    "spam_predictor = nb.fit(training)"
   ]
  },
  {
   "cell_type": "code",
   "execution_count": 0,
   "metadata": {
    "colab": {},
    "colab_type": "code",
    "id": "1jUimmxWW1On"
   },
   "outputs": [],
   "source": [
    "test_results = spam_predictor.transform(testing)"
   ]
  },
  {
   "cell_type": "code",
   "execution_count": 35,
   "metadata": {
    "colab": {
     "base_uri": "https://localhost:8080/",
     "height": 459
    },
    "colab_type": "code",
    "id": "AE7QOxh9W4l3",
    "outputId": "20284000-54d3-4faa-bca5-aa42a66d0b05"
   },
   "outputs": [
    {
     "name": "stdout",
     "output_type": "stream",
     "text": [
      "+-----+--------------------+--------------------+--------------------+----------+\n",
      "|label|            features|       rawPrediction|         probability|prediction|\n",
      "+-----+--------------------+--------------------+--------------------+----------+\n",
      "|  0.0|(13459,[0,1,6,16,...|[-1000.6978135125...|[1.0,2.8170579935...|       0.0|\n",
      "|  0.0|(13459,[0,1,8,9,1...|[-881.57010655906...|[1.0,1.6479730749...|       0.0|\n",
      "|  0.0|(13459,[0,1,12,34...|[-870.98966006301...|[1.0,4.4454339596...|       0.0|\n",
      "|  0.0|(13459,[0,1,25,66...|[-1343.9766402665...|[1.0,4.6833317808...|       0.0|\n",
      "|  0.0|(13459,[0,1,29,38...|[-1492.4575067481...|[0.99999942950083...|       0.0|\n",
      "|  0.0|(13459,[0,1,29,89...|[-1548.7929104344...|[0.99998792121941...|       0.0|\n",
      "|  0.0|(13459,[0,1,33,46...|[-375.96390448472...|[1.0,3.0882407587...|       0.0|\n",
      "|  0.0|(13459,[0,1,49,18...|[-1143.6298669216...|[7.23614867770573...|       1.0|\n",
      "|  0.0|(13459,[0,1,439,6...|[-301.88405143550...|[0.99999999999999...|       0.0|\n",
      "|  0.0|(13459,[0,1,896,1...|[-96.286788911558...|[0.99999996760945...|       0.0|\n",
      "|  0.0|(13459,[0,2,3,9,2...|[-1598.9994292824...|[1.0,2.4374784878...|       0.0|\n",
      "|  0.0|(13459,[0,2,4,5,8...|[-534.65343781482...|[1.0,8.1926463264...|       0.0|\n",
      "|  0.0|(13459,[0,2,4,6,1...|[-1614.5709861324...|[1.0,9.0381387052...|       0.0|\n",
      "|  0.0|(13459,[0,2,4,9,2...|[-1426.5130346142...|[1.0,1.7264143283...|       0.0|\n",
      "|  0.0|(13459,[0,2,4,9,3...|[-556.40600577747...|[1.0,6.7442458104...|       0.0|\n",
      "|  0.0|(13459,[0,2,4,11,...|[-1236.3429501197...|[1.0,8.0978694008...|       0.0|\n",
      "|  0.0|(13459,[0,2,4,47,...|[-1901.1792296683...|[1.0,2.8066059751...|       0.0|\n",
      "|  0.0|(13459,[0,2,5,25,...|[-491.75059590151...|[1.0,1.0221557173...|       0.0|\n",
      "|  0.0|(13459,[0,2,6,9,4...|[-832.35514362080...|[1.0,1.2180024229...|       0.0|\n",
      "|  0.0|(13459,[0,2,8,12,...|[-1405.5881808890...|[1.0,9.8496507879...|       0.0|\n",
      "+-----+--------------------+--------------------+--------------------+----------+\n",
      "only showing top 20 rows\n",
      "\n"
     ]
    }
   ],
   "source": [
    "test_results.show()"
   ]
  },
  {
   "cell_type": "code",
   "execution_count": 0,
   "metadata": {
    "colab": {},
    "colab_type": "code",
    "id": "5il5bNoLW9W5"
   },
   "outputs": [],
   "source": [
    "from pyspark.ml.evaluation import MulticlassClassificationEvaluator"
   ]
  },
  {
   "cell_type": "code",
   "execution_count": 37,
   "metadata": {
    "colab": {
     "base_uri": "https://localhost:8080/",
     "height": 34
    },
    "colab_type": "code",
    "id": "TjZhZTSjXGHr",
    "outputId": "3be9469b-f285-46d2-99fa-82d1c475a19e"
   },
   "outputs": [
    {
     "name": "stdout",
     "output_type": "stream",
     "text": [
      "Accuracy of model at predicting spam was: 0.9243219878469574\n"
     ]
    }
   ],
   "source": [
    "acc_eval = MulticlassClassificationEvaluator()\n",
    "acc = acc_eval.evaluate(test_results)\n",
    "print(\"Accuracy of model at predicting spam was: {}\".format(acc))"
   ]
  },
  {
   "cell_type": "code",
   "execution_count": 0,
   "metadata": {
    "colab": {},
    "colab_type": "code",
    "id": "i4XXLDtHXZ8N"
   },
   "outputs": [],
   "source": []
  }
 ],
 "metadata": {
  "accelerator": "GPU",
  "colab": {
   "name": "PySpark_first.ipynb",
   "provenance": []
  },
  "kernelspec": {
   "display_name": "Python 3",
   "language": "python",
   "name": "python3"
  },
  "language_info": {
   "codemirror_mode": {
    "name": "ipython",
    "version": 3
   },
   "file_extension": ".py",
   "mimetype": "text/x-python",
   "name": "python",
   "nbconvert_exporter": "python",
   "pygments_lexer": "ipython3",
   "version": "3.7.3"
  }
 },
 "nbformat": 4,
 "nbformat_minor": 1
}
